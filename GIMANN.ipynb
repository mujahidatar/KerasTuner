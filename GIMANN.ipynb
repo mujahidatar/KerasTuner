{
 "cells": [
  {
   "cell_type": "markdown",
   "metadata": {},
   "source": [
    "### ANN With Cutomer Churn Prediction- Classification"
   ]
  },
  {
   "cell_type": "code",
   "execution_count": null,
   "metadata": {},
   "outputs": [],
   "source": []
  },
  {
   "cell_type": "code",
   "execution_count": 34,
   "metadata": {
    "id": "LJ1czPWJml_f"
   },
   "outputs": [],
   "source": [
    "# Part 1 - Data Preprocessing\n",
    "\n",
    "# Importing the libraries\n",
    "import numpy as np\n",
    "import matplotlib.pyplot as plt\n",
    "import pandas as pd"
   ]
  },
  {
   "cell_type": "code",
   "execution_count": 35,
   "metadata": {
    "id": "-H0j08pym5HX"
   },
   "outputs": [],
   "source": [
    "# Importing the dataset\n",
    "dataset = pd.read_csv('Churn_Modelling.csv')\n",
    "X = dataset.iloc[:, 3:13]\n",
    "y = dataset.iloc[:, 13]"
   ]
  },
  {
   "cell_type": "code",
   "execution_count": 36,
   "metadata": {},
   "outputs": [
    {
     "data": {
      "text/html": [
       "<div>\n",
       "<style scoped>\n",
       "    .dataframe tbody tr th:only-of-type {\n",
       "        vertical-align: middle;\n",
       "    }\n",
       "\n",
       "    .dataframe tbody tr th {\n",
       "        vertical-align: top;\n",
       "    }\n",
       "\n",
       "    .dataframe thead th {\n",
       "        text-align: right;\n",
       "    }\n",
       "</style>\n",
       "<table border=\"1\" class=\"dataframe\">\n",
       "  <thead>\n",
       "    <tr style=\"text-align: right;\">\n",
       "      <th></th>\n",
       "      <th>RowNumber</th>\n",
       "      <th>CustomerId</th>\n",
       "      <th>Surname</th>\n",
       "      <th>CreditScore</th>\n",
       "      <th>Geography</th>\n",
       "      <th>Gender</th>\n",
       "      <th>Age</th>\n",
       "      <th>Tenure</th>\n",
       "      <th>Balance</th>\n",
       "      <th>NumOfProducts</th>\n",
       "      <th>HasCrCard</th>\n",
       "      <th>IsActiveMember</th>\n",
       "      <th>EstimatedSalary</th>\n",
       "      <th>Exited</th>\n",
       "    </tr>\n",
       "  </thead>\n",
       "  <tbody>\n",
       "    <tr>\n",
       "      <th>0</th>\n",
       "      <td>1</td>\n",
       "      <td>15634602</td>\n",
       "      <td>Hargrave</td>\n",
       "      <td>619</td>\n",
       "      <td>France</td>\n",
       "      <td>Female</td>\n",
       "      <td>42</td>\n",
       "      <td>2</td>\n",
       "      <td>0.00</td>\n",
       "      <td>1</td>\n",
       "      <td>1</td>\n",
       "      <td>1</td>\n",
       "      <td>101348.88</td>\n",
       "      <td>1</td>\n",
       "    </tr>\n",
       "    <tr>\n",
       "      <th>1</th>\n",
       "      <td>2</td>\n",
       "      <td>15647311</td>\n",
       "      <td>Hill</td>\n",
       "      <td>608</td>\n",
       "      <td>Spain</td>\n",
       "      <td>Female</td>\n",
       "      <td>41</td>\n",
       "      <td>1</td>\n",
       "      <td>83807.86</td>\n",
       "      <td>1</td>\n",
       "      <td>0</td>\n",
       "      <td>1</td>\n",
       "      <td>112542.58</td>\n",
       "      <td>0</td>\n",
       "    </tr>\n",
       "    <tr>\n",
       "      <th>2</th>\n",
       "      <td>3</td>\n",
       "      <td>15619304</td>\n",
       "      <td>Onio</td>\n",
       "      <td>502</td>\n",
       "      <td>France</td>\n",
       "      <td>Female</td>\n",
       "      <td>42</td>\n",
       "      <td>8</td>\n",
       "      <td>159660.80</td>\n",
       "      <td>3</td>\n",
       "      <td>1</td>\n",
       "      <td>0</td>\n",
       "      <td>113931.57</td>\n",
       "      <td>1</td>\n",
       "    </tr>\n",
       "    <tr>\n",
       "      <th>3</th>\n",
       "      <td>4</td>\n",
       "      <td>15701354</td>\n",
       "      <td>Boni</td>\n",
       "      <td>699</td>\n",
       "      <td>France</td>\n",
       "      <td>Female</td>\n",
       "      <td>39</td>\n",
       "      <td>1</td>\n",
       "      <td>0.00</td>\n",
       "      <td>2</td>\n",
       "      <td>0</td>\n",
       "      <td>0</td>\n",
       "      <td>93826.63</td>\n",
       "      <td>0</td>\n",
       "    </tr>\n",
       "    <tr>\n",
       "      <th>4</th>\n",
       "      <td>5</td>\n",
       "      <td>15737888</td>\n",
       "      <td>Mitchell</td>\n",
       "      <td>850</td>\n",
       "      <td>Spain</td>\n",
       "      <td>Female</td>\n",
       "      <td>43</td>\n",
       "      <td>2</td>\n",
       "      <td>125510.82</td>\n",
       "      <td>1</td>\n",
       "      <td>1</td>\n",
       "      <td>1</td>\n",
       "      <td>79084.10</td>\n",
       "      <td>0</td>\n",
       "    </tr>\n",
       "  </tbody>\n",
       "</table>\n",
       "</div>"
      ],
      "text/plain": [
       "   RowNumber  CustomerId   Surname  CreditScore Geography  Gender  Age  \\\n",
       "0          1    15634602  Hargrave          619    France  Female   42   \n",
       "1          2    15647311      Hill          608     Spain  Female   41   \n",
       "2          3    15619304      Onio          502    France  Female   42   \n",
       "3          4    15701354      Boni          699    France  Female   39   \n",
       "4          5    15737888  Mitchell          850     Spain  Female   43   \n",
       "\n",
       "   Tenure    Balance  NumOfProducts  HasCrCard  IsActiveMember  \\\n",
       "0       2       0.00              1          1               1   \n",
       "1       1   83807.86              1          0               1   \n",
       "2       8  159660.80              3          1               0   \n",
       "3       1       0.00              2          0               0   \n",
       "4       2  125510.82              1          1               1   \n",
       "\n",
       "   EstimatedSalary  Exited  \n",
       "0        101348.88       1  \n",
       "1        112542.58       0  \n",
       "2        113931.57       1  \n",
       "3         93826.63       0  \n",
       "4         79084.10       0  "
      ]
     },
     "execution_count": 36,
     "metadata": {},
     "output_type": "execute_result"
    }
   ],
   "source": [
    "dataset.head()"
   ]
  },
  {
   "cell_type": "code",
   "execution_count": 37,
   "metadata": {},
   "outputs": [
    {
     "data": {
      "text/plain": [
       "RowNumber          0\n",
       "CustomerId         0\n",
       "Surname            0\n",
       "CreditScore        0\n",
       "Geography          0\n",
       "Gender             0\n",
       "Age                0\n",
       "Tenure             0\n",
       "Balance            0\n",
       "NumOfProducts      0\n",
       "HasCrCard          0\n",
       "IsActiveMember     0\n",
       "EstimatedSalary    0\n",
       "Exited             0\n",
       "dtype: int64"
      ]
     },
     "execution_count": 37,
     "metadata": {},
     "output_type": "execute_result"
    }
   ],
   "source": [
    "dataset.isnull().sum()"
   ]
  },
  {
   "cell_type": "code",
   "execution_count": 38,
   "metadata": {},
   "outputs": [
    {
     "data": {
      "text/html": [
       "<div>\n",
       "<style scoped>\n",
       "    .dataframe tbody tr th:only-of-type {\n",
       "        vertical-align: middle;\n",
       "    }\n",
       "\n",
       "    .dataframe tbody tr th {\n",
       "        vertical-align: top;\n",
       "    }\n",
       "\n",
       "    .dataframe thead th {\n",
       "        text-align: right;\n",
       "    }\n",
       "</style>\n",
       "<table border=\"1\" class=\"dataframe\">\n",
       "  <thead>\n",
       "    <tr style=\"text-align: right;\">\n",
       "      <th></th>\n",
       "      <th>CreditScore</th>\n",
       "      <th>Geography</th>\n",
       "      <th>Gender</th>\n",
       "      <th>Age</th>\n",
       "      <th>Tenure</th>\n",
       "      <th>Balance</th>\n",
       "      <th>NumOfProducts</th>\n",
       "      <th>HasCrCard</th>\n",
       "      <th>IsActiveMember</th>\n",
       "      <th>EstimatedSalary</th>\n",
       "    </tr>\n",
       "  </thead>\n",
       "  <tbody>\n",
       "    <tr>\n",
       "      <th>0</th>\n",
       "      <td>619</td>\n",
       "      <td>France</td>\n",
       "      <td>Female</td>\n",
       "      <td>42</td>\n",
       "      <td>2</td>\n",
       "      <td>0.00</td>\n",
       "      <td>1</td>\n",
       "      <td>1</td>\n",
       "      <td>1</td>\n",
       "      <td>101348.88</td>\n",
       "    </tr>\n",
       "    <tr>\n",
       "      <th>1</th>\n",
       "      <td>608</td>\n",
       "      <td>Spain</td>\n",
       "      <td>Female</td>\n",
       "      <td>41</td>\n",
       "      <td>1</td>\n",
       "      <td>83807.86</td>\n",
       "      <td>1</td>\n",
       "      <td>0</td>\n",
       "      <td>1</td>\n",
       "      <td>112542.58</td>\n",
       "    </tr>\n",
       "    <tr>\n",
       "      <th>2</th>\n",
       "      <td>502</td>\n",
       "      <td>France</td>\n",
       "      <td>Female</td>\n",
       "      <td>42</td>\n",
       "      <td>8</td>\n",
       "      <td>159660.80</td>\n",
       "      <td>3</td>\n",
       "      <td>1</td>\n",
       "      <td>0</td>\n",
       "      <td>113931.57</td>\n",
       "    </tr>\n",
       "    <tr>\n",
       "      <th>3</th>\n",
       "      <td>699</td>\n",
       "      <td>France</td>\n",
       "      <td>Female</td>\n",
       "      <td>39</td>\n",
       "      <td>1</td>\n",
       "      <td>0.00</td>\n",
       "      <td>2</td>\n",
       "      <td>0</td>\n",
       "      <td>0</td>\n",
       "      <td>93826.63</td>\n",
       "    </tr>\n",
       "    <tr>\n",
       "      <th>4</th>\n",
       "      <td>850</td>\n",
       "      <td>Spain</td>\n",
       "      <td>Female</td>\n",
       "      <td>43</td>\n",
       "      <td>2</td>\n",
       "      <td>125510.82</td>\n",
       "      <td>1</td>\n",
       "      <td>1</td>\n",
       "      <td>1</td>\n",
       "      <td>79084.10</td>\n",
       "    </tr>\n",
       "  </tbody>\n",
       "</table>\n",
       "</div>"
      ],
      "text/plain": [
       "   CreditScore Geography  Gender  Age  Tenure    Balance  NumOfProducts  \\\n",
       "0          619    France  Female   42       2       0.00              1   \n",
       "1          608     Spain  Female   41       1   83807.86              1   \n",
       "2          502    France  Female   42       8  159660.80              3   \n",
       "3          699    France  Female   39       1       0.00              2   \n",
       "4          850     Spain  Female   43       2  125510.82              1   \n",
       "\n",
       "   HasCrCard  IsActiveMember  EstimatedSalary  \n",
       "0          1               1        101348.88  \n",
       "1          0               1        112542.58  \n",
       "2          1               0        113931.57  \n",
       "3          0               0         93826.63  \n",
       "4          1               1         79084.10  "
      ]
     },
     "execution_count": 38,
     "metadata": {},
     "output_type": "execute_result"
    }
   ],
   "source": [
    "X.head()"
   ]
  },
  {
   "cell_type": "code",
   "execution_count": 39,
   "metadata": {},
   "outputs": [
    {
     "data": {
      "text/plain": [
       "0    1\n",
       "1    0\n",
       "2    1\n",
       "3    0\n",
       "4    0\n",
       "Name: Exited, dtype: int64"
      ]
     },
     "execution_count": 39,
     "metadata": {},
     "output_type": "execute_result"
    }
   ],
   "source": [
    "y.head()"
   ]
  },
  {
   "cell_type": "code",
   "execution_count": 40,
   "metadata": {
    "id": "N9QNTLkJm8tm"
   },
   "outputs": [],
   "source": [
    "#Create dummy variables\n",
    "geography=pd.get_dummies(X[\"Geography\"],drop_first=True)\n",
    "gender=pd.get_dummies(X['Gender'],drop_first=True)\n"
   ]
  },
  {
   "cell_type": "code",
   "execution_count": 41,
   "metadata": {},
   "outputs": [
    {
     "data": {
      "text/html": [
       "<div>\n",
       "<style scoped>\n",
       "    .dataframe tbody tr th:only-of-type {\n",
       "        vertical-align: middle;\n",
       "    }\n",
       "\n",
       "    .dataframe tbody tr th {\n",
       "        vertical-align: top;\n",
       "    }\n",
       "\n",
       "    .dataframe thead th {\n",
       "        text-align: right;\n",
       "    }\n",
       "</style>\n",
       "<table border=\"1\" class=\"dataframe\">\n",
       "  <thead>\n",
       "    <tr style=\"text-align: right;\">\n",
       "      <th></th>\n",
       "      <th>Germany</th>\n",
       "      <th>Spain</th>\n",
       "    </tr>\n",
       "  </thead>\n",
       "  <tbody>\n",
       "    <tr>\n",
       "      <th>0</th>\n",
       "      <td>0</td>\n",
       "      <td>0</td>\n",
       "    </tr>\n",
       "    <tr>\n",
       "      <th>1</th>\n",
       "      <td>0</td>\n",
       "      <td>1</td>\n",
       "    </tr>\n",
       "    <tr>\n",
       "      <th>2</th>\n",
       "      <td>0</td>\n",
       "      <td>0</td>\n",
       "    </tr>\n",
       "    <tr>\n",
       "      <th>3</th>\n",
       "      <td>0</td>\n",
       "      <td>0</td>\n",
       "    </tr>\n",
       "    <tr>\n",
       "      <th>4</th>\n",
       "      <td>0</td>\n",
       "      <td>1</td>\n",
       "    </tr>\n",
       "    <tr>\n",
       "      <th>...</th>\n",
       "      <td>...</td>\n",
       "      <td>...</td>\n",
       "    </tr>\n",
       "    <tr>\n",
       "      <th>9995</th>\n",
       "      <td>0</td>\n",
       "      <td>0</td>\n",
       "    </tr>\n",
       "    <tr>\n",
       "      <th>9996</th>\n",
       "      <td>0</td>\n",
       "      <td>0</td>\n",
       "    </tr>\n",
       "    <tr>\n",
       "      <th>9997</th>\n",
       "      <td>0</td>\n",
       "      <td>0</td>\n",
       "    </tr>\n",
       "    <tr>\n",
       "      <th>9998</th>\n",
       "      <td>1</td>\n",
       "      <td>0</td>\n",
       "    </tr>\n",
       "    <tr>\n",
       "      <th>9999</th>\n",
       "      <td>0</td>\n",
       "      <td>0</td>\n",
       "    </tr>\n",
       "  </tbody>\n",
       "</table>\n",
       "<p>10000 rows × 2 columns</p>\n",
       "</div>"
      ],
      "text/plain": [
       "      Germany  Spain\n",
       "0           0      0\n",
       "1           0      1\n",
       "2           0      0\n",
       "3           0      0\n",
       "4           0      1\n",
       "...       ...    ...\n",
       "9995        0      0\n",
       "9996        0      0\n",
       "9997        0      0\n",
       "9998        1      0\n",
       "9999        0      0\n",
       "\n",
       "[10000 rows x 2 columns]"
      ]
     },
     "execution_count": 41,
     "metadata": {},
     "output_type": "execute_result"
    }
   ],
   "source": [
    "geography"
   ]
  },
  {
   "cell_type": "code",
   "execution_count": 42,
   "metadata": {
    "id": "rbNc5sLHnAdP"
   },
   "outputs": [],
   "source": [
    "## Concatenate the Data Frames\n",
    "\n",
    "X=pd.concat([X,geography,gender],axis=1)\n",
    "\n",
    "## Drop Unnecessary columns\n",
    "X=X.drop(['Geography','Gender'],axis=1)\n"
   ]
  },
  {
   "cell_type": "code",
   "execution_count": 43,
   "metadata": {},
   "outputs": [
    {
     "data": {
      "text/plain": [
       "(10000, 11)"
      ]
     },
     "execution_count": 43,
     "metadata": {},
     "output_type": "execute_result"
    }
   ],
   "source": [
    "X.shape"
   ]
  },
  {
   "cell_type": "code",
   "execution_count": 44,
   "metadata": {},
   "outputs": [
    {
     "data": {
      "text/html": [
       "<div>\n",
       "<style scoped>\n",
       "    .dataframe tbody tr th:only-of-type {\n",
       "        vertical-align: middle;\n",
       "    }\n",
       "\n",
       "    .dataframe tbody tr th {\n",
       "        vertical-align: top;\n",
       "    }\n",
       "\n",
       "    .dataframe thead th {\n",
       "        text-align: right;\n",
       "    }\n",
       "</style>\n",
       "<table border=\"1\" class=\"dataframe\">\n",
       "  <thead>\n",
       "    <tr style=\"text-align: right;\">\n",
       "      <th></th>\n",
       "      <th>CreditScore</th>\n",
       "      <th>Age</th>\n",
       "      <th>Tenure</th>\n",
       "      <th>Balance</th>\n",
       "      <th>NumOfProducts</th>\n",
       "      <th>HasCrCard</th>\n",
       "      <th>IsActiveMember</th>\n",
       "      <th>EstimatedSalary</th>\n",
       "      <th>Germany</th>\n",
       "      <th>Spain</th>\n",
       "      <th>Male</th>\n",
       "    </tr>\n",
       "  </thead>\n",
       "  <tbody>\n",
       "    <tr>\n",
       "      <th>0</th>\n",
       "      <td>619</td>\n",
       "      <td>42</td>\n",
       "      <td>2</td>\n",
       "      <td>0.00</td>\n",
       "      <td>1</td>\n",
       "      <td>1</td>\n",
       "      <td>1</td>\n",
       "      <td>101348.88</td>\n",
       "      <td>0</td>\n",
       "      <td>0</td>\n",
       "      <td>0</td>\n",
       "    </tr>\n",
       "    <tr>\n",
       "      <th>1</th>\n",
       "      <td>608</td>\n",
       "      <td>41</td>\n",
       "      <td>1</td>\n",
       "      <td>83807.86</td>\n",
       "      <td>1</td>\n",
       "      <td>0</td>\n",
       "      <td>1</td>\n",
       "      <td>112542.58</td>\n",
       "      <td>0</td>\n",
       "      <td>1</td>\n",
       "      <td>0</td>\n",
       "    </tr>\n",
       "    <tr>\n",
       "      <th>2</th>\n",
       "      <td>502</td>\n",
       "      <td>42</td>\n",
       "      <td>8</td>\n",
       "      <td>159660.80</td>\n",
       "      <td>3</td>\n",
       "      <td>1</td>\n",
       "      <td>0</td>\n",
       "      <td>113931.57</td>\n",
       "      <td>0</td>\n",
       "      <td>0</td>\n",
       "      <td>0</td>\n",
       "    </tr>\n",
       "    <tr>\n",
       "      <th>3</th>\n",
       "      <td>699</td>\n",
       "      <td>39</td>\n",
       "      <td>1</td>\n",
       "      <td>0.00</td>\n",
       "      <td>2</td>\n",
       "      <td>0</td>\n",
       "      <td>0</td>\n",
       "      <td>93826.63</td>\n",
       "      <td>0</td>\n",
       "      <td>0</td>\n",
       "      <td>0</td>\n",
       "    </tr>\n",
       "    <tr>\n",
       "      <th>4</th>\n",
       "      <td>850</td>\n",
       "      <td>43</td>\n",
       "      <td>2</td>\n",
       "      <td>125510.82</td>\n",
       "      <td>1</td>\n",
       "      <td>1</td>\n",
       "      <td>1</td>\n",
       "      <td>79084.10</td>\n",
       "      <td>0</td>\n",
       "      <td>1</td>\n",
       "      <td>0</td>\n",
       "    </tr>\n",
       "  </tbody>\n",
       "</table>\n",
       "</div>"
      ],
      "text/plain": [
       "   CreditScore  Age  Tenure    Balance  NumOfProducts  HasCrCard  \\\n",
       "0          619   42       2       0.00              1          1   \n",
       "1          608   41       1   83807.86              1          0   \n",
       "2          502   42       8  159660.80              3          1   \n",
       "3          699   39       1       0.00              2          0   \n",
       "4          850   43       2  125510.82              1          1   \n",
       "\n",
       "   IsActiveMember  EstimatedSalary  Germany  Spain  Male  \n",
       "0               1        101348.88        0      0     0  \n",
       "1               1        112542.58        0      1     0  \n",
       "2               0        113931.57        0      0     0  \n",
       "3               0         93826.63        0      0     0  \n",
       "4               1         79084.10        0      1     0  "
      ]
     },
     "execution_count": 44,
     "metadata": {},
     "output_type": "execute_result"
    }
   ],
   "source": [
    "X.head()"
   ]
  },
  {
   "cell_type": "code",
   "execution_count": 45,
   "metadata": {
    "id": "YkYOlHPAnDz_"
   },
   "outputs": [],
   "source": [
    "# Splitting the dataset into the Training set and Test set\n",
    "from sklearn.model_selection import train_test_split\n",
    "X_train, X_test, y_train, y_test = train_test_split(X, y, test_size = 0.2, random_state = 0)\n"
   ]
  },
  {
   "cell_type": "code",
   "execution_count": 46,
   "metadata": {
    "id": "cP2vl1p9nGyj"
   },
   "outputs": [],
   "source": [
    "# Feature Scaling\n",
    "from sklearn.preprocessing import StandardScaler\n",
    "sc = StandardScaler()\n",
    "X_train = sc.fit_transform(X_train)\n",
    "X_test = sc.transform(X_test)"
   ]
  },
  {
   "cell_type": "code",
   "execution_count": 47,
   "metadata": {},
   "outputs": [
    {
     "data": {
      "text/plain": [
       "array([[ 0.16958176, -0.46460796,  0.00666099, ..., -0.5698444 ,\n",
       "         1.74309049, -1.09168714],\n",
       "       [-2.30455945,  0.30102557, -1.37744033, ...,  1.75486502,\n",
       "        -0.57369368,  0.91601335],\n",
       "       [-1.19119591, -0.94312892, -1.031415  , ..., -0.5698444 ,\n",
       "        -0.57369368, -1.09168714],\n",
       "       ...,\n",
       "       [ 0.9015152 , -0.36890377,  0.00666099, ..., -0.5698444 ,\n",
       "        -0.57369368,  0.91601335],\n",
       "       [-0.62420521, -0.08179119,  1.39076231, ..., -0.5698444 ,\n",
       "         1.74309049, -1.09168714],\n",
       "       [-0.28401079,  0.87525072, -1.37744033, ...,  1.75486502,\n",
       "        -0.57369368, -1.09168714]])"
      ]
     },
     "execution_count": 47,
     "metadata": {},
     "output_type": "execute_result"
    }
   ],
   "source": [
    "X_train"
   ]
  },
  {
   "cell_type": "code",
   "execution_count": 48,
   "metadata": {},
   "outputs": [
    {
     "name": "stdout",
     "output_type": "stream",
     "text": [
      "2.4.1\n"
     ]
    }
   ],
   "source": [
    "import tensorflow\n",
    "print(tensorflow.__version__)"
   ]
  },
  {
   "cell_type": "code",
   "execution_count": 49,
   "metadata": {
    "id": "9cazFt9anJYm"
   },
   "outputs": [],
   "source": [
    "# Part 2 - Now let's make the ANN!\n",
    "\n",
    "# Importing the Keras libraries and packages\n",
    "import tensorflow.keras\n",
    "from tensorflow.keras.models import Sequential\n",
    "from tensorflow.keras.layers import Dense\n",
    "from tensorflow.keras.layers import Dropout\n",
    "from tensorflow.keras.layers import BatchNormalization"
   ]
  },
  {
   "cell_type": "code",
   "execution_count": 50,
   "metadata": {
    "id": "uuQ4aGhjnVfc"
   },
   "outputs": [],
   "source": [
    "# Initialising the ANN\n",
    "classifier = Sequential()\n",
    "\n",
    "# Adding the input layer and the first hidden layer\n",
    "classifier.add(Dense(units = 10,kernel_initializer='he_uniform',activation='relu',input_dim = 11))\n",
    "#classifier.add(BatchNormalization())\n",
    "# Adding the second hidden layer\n",
    "classifier.add(Dense(units = 10, kernel_initializer = 'he_uniform',activation='relu'))\n",
    "# Adding the output layer\n",
    "classifier.add(Dense(units = 1, kernel_initializer = 'glorot_uniform', activation = 'sigmoid'))\n",
    "\n",
    "# Compiling the ANN\n",
    "classifier.compile(optimizer = 'adam', loss = 'binary_crossentropy', metrics = ['accuracy'])"
   ]
  },
  {
   "cell_type": "code",
   "execution_count": 51,
   "metadata": {},
   "outputs": [
    {
     "name": "stdout",
     "output_type": "stream",
     "text": [
      "Model: \"sequential_1\"\n",
      "_________________________________________________________________\n",
      "Layer (type)                 Output Shape              Param #   \n",
      "=================================================================\n",
      "dense_3 (Dense)              (None, 10)                120       \n",
      "_________________________________________________________________\n",
      "dense_4 (Dense)              (None, 10)                110       \n",
      "_________________________________________________________________\n",
      "dense_5 (Dense)              (None, 1)                 11        \n",
      "=================================================================\n",
      "Total params: 241\n",
      "Trainable params: 241\n",
      "Non-trainable params: 0\n",
      "_________________________________________________________________\n"
     ]
    }
   ],
   "source": [
    "classifier.summary()"
   ]
  },
  {
   "cell_type": "code",
   "execution_count": 52,
   "metadata": {},
   "outputs": [
    {
     "data": {
      "text/plain": [
       "(8000, 11)"
      ]
     },
     "execution_count": 52,
     "metadata": {},
     "output_type": "execute_result"
    }
   ],
   "source": [
    "X_train.shape"
   ]
  },
  {
   "cell_type": "code",
   "execution_count": 53,
   "metadata": {},
   "outputs": [],
   "source": [
    "X_train= np.asarray(X_train)"
   ]
  },
  {
   "cell_type": "code",
   "execution_count": 54,
   "metadata": {},
   "outputs": [],
   "source": [
    "y_train= np.asarray(y_train)"
   ]
  },
  {
   "cell_type": "code",
   "execution_count": 55,
   "metadata": {
    "colab": {
     "base_uri": "https://localhost:8080/",
     "height": 1000
    },
    "id": "zQ50oSx9nciT",
    "outputId": "ea283f91-265a-4c68-d55b-c0d687801e59"
   },
   "outputs": [
    {
     "name": "stdout",
     "output_type": "stream",
     "text": [
      "Epoch 1/100\n",
      "54/54 [==============================] - 1s 13ms/step - loss: 1.3162 - accuracy: 0.3614 - val_loss: 0.8381 - val_accuracy: 0.5343\n",
      "Epoch 2/100\n",
      "54/54 [==============================] - 0s 5ms/step - loss: 0.7622 - accuracy: 0.5837 - val_loss: 0.5958 - val_accuracy: 0.7047\n",
      "Epoch 3/100\n",
      "54/54 [==============================] - 0s 5ms/step - loss: 0.5710 - accuracy: 0.7325 - val_loss: 0.5246 - val_accuracy: 0.7660\n",
      "Epoch 4/100\n",
      "54/54 [==============================] - 0s 4ms/step - loss: 0.5173 - accuracy: 0.7724 - val_loss: 0.4945 - val_accuracy: 0.7910\n",
      "Epoch 5/100\n",
      "54/54 [==============================] - 0s 5ms/step - loss: 0.4923 - accuracy: 0.7946 - val_loss: 0.4775 - val_accuracy: 0.7982\n",
      "Epoch 6/100\n",
      "54/54 [==============================] - 0s 5ms/step - loss: 0.4743 - accuracy: 0.7980 - val_loss: 0.4659 - val_accuracy: 0.8050\n",
      "Epoch 7/100\n",
      "54/54 [==============================] - 0s 5ms/step - loss: 0.4668 - accuracy: 0.8001 - val_loss: 0.4575 - val_accuracy: 0.8042\n",
      "Epoch 8/100\n",
      "54/54 [==============================] - 0s 5ms/step - loss: 0.4499 - accuracy: 0.8093 - val_loss: 0.4506 - val_accuracy: 0.8088\n",
      "Epoch 9/100\n",
      "54/54 [==============================] - 0s 5ms/step - loss: 0.4437 - accuracy: 0.8075 - val_loss: 0.4452 - val_accuracy: 0.8092\n",
      "Epoch 10/100\n",
      "54/54 [==============================] - 0s 5ms/step - loss: 0.4263 - accuracy: 0.8173 - val_loss: 0.4405 - val_accuracy: 0.8118\n",
      "Epoch 11/100\n",
      "54/54 [==============================] - 0s 4ms/step - loss: 0.4313 - accuracy: 0.8132 - val_loss: 0.4365 - val_accuracy: 0.8137\n",
      "Epoch 12/100\n",
      "54/54 [==============================] - 0s 4ms/step - loss: 0.4244 - accuracy: 0.8210 - val_loss: 0.4328 - val_accuracy: 0.8160\n",
      "Epoch 13/100\n",
      "54/54 [==============================] - 0s 4ms/step - loss: 0.4278 - accuracy: 0.8102 - val_loss: 0.4290 - val_accuracy: 0.8167\n",
      "Epoch 14/100\n",
      "54/54 [==============================] - 0s 5ms/step - loss: 0.4224 - accuracy: 0.8171 - val_loss: 0.4258 - val_accuracy: 0.8145\n",
      "Epoch 15/100\n",
      "54/54 [==============================] - 0s 5ms/step - loss: 0.4302 - accuracy: 0.8096 - val_loss: 0.4226 - val_accuracy: 0.8156\n",
      "Epoch 16/100\n",
      "54/54 [==============================] - 0s 4ms/step - loss: 0.4037 - accuracy: 0.8237 - val_loss: 0.4195 - val_accuracy: 0.8171\n",
      "Epoch 17/100\n",
      "54/54 [==============================] - 0s 4ms/step - loss: 0.4029 - accuracy: 0.8205 - val_loss: 0.4161 - val_accuracy: 0.8179\n",
      "Epoch 18/100\n",
      "54/54 [==============================] - 0s 4ms/step - loss: 0.3975 - accuracy: 0.8269 - val_loss: 0.4133 - val_accuracy: 0.8201\n",
      "Epoch 19/100\n",
      "54/54 [==============================] - 0s 4ms/step - loss: 0.3991 - accuracy: 0.8279 - val_loss: 0.4104 - val_accuracy: 0.8213\n",
      "Epoch 20/100\n",
      "54/54 [==============================] - 0s 5ms/step - loss: 0.4057 - accuracy: 0.8277 - val_loss: 0.4071 - val_accuracy: 0.8205\n",
      "Epoch 21/100\n",
      "54/54 [==============================] - 0s 4ms/step - loss: 0.3862 - accuracy: 0.8378 - val_loss: 0.4043 - val_accuracy: 0.8217\n",
      "Epoch 22/100\n",
      "54/54 [==============================] - 0s 4ms/step - loss: 0.3919 - accuracy: 0.8341 - val_loss: 0.4008 - val_accuracy: 0.8266\n",
      "Epoch 23/100\n",
      "54/54 [==============================] - 0s 5ms/step - loss: 0.3885 - accuracy: 0.8390 - val_loss: 0.3980 - val_accuracy: 0.8254\n",
      "Epoch 24/100\n",
      "54/54 [==============================] - 0s 4ms/step - loss: 0.3795 - accuracy: 0.8456 - val_loss: 0.3950 - val_accuracy: 0.8273\n",
      "Epoch 25/100\n",
      "54/54 [==============================] - 0s 5ms/step - loss: 0.3703 - accuracy: 0.8450 - val_loss: 0.3923 - val_accuracy: 0.8296\n",
      "Epoch 26/100\n",
      "54/54 [==============================] - 0s 4ms/step - loss: 0.3775 - accuracy: 0.8455 - val_loss: 0.3898 - val_accuracy: 0.8315\n",
      "Epoch 27/100\n",
      "54/54 [==============================] - 0s 4ms/step - loss: 0.3744 - accuracy: 0.8455 - val_loss: 0.3875 - val_accuracy: 0.8334\n",
      "Epoch 28/100\n",
      "54/54 [==============================] - 0s 4ms/step - loss: 0.3691 - accuracy: 0.8466 - val_loss: 0.3857 - val_accuracy: 0.8368\n",
      "Epoch 29/100\n",
      "54/54 [==============================] - 0s 4ms/step - loss: 0.3667 - accuracy: 0.8455 - val_loss: 0.3836 - val_accuracy: 0.8372\n",
      "Epoch 30/100\n",
      "54/54 [==============================] - 0s 5ms/step - loss: 0.3578 - accuracy: 0.8545 - val_loss: 0.3817 - val_accuracy: 0.8376\n",
      "Epoch 31/100\n",
      "54/54 [==============================] - ETA: 0s - loss: 0.3548 - accuracy: 0.84 - 0s 5ms/step - loss: 0.3560 - accuracy: 0.8495 - val_loss: 0.3807 - val_accuracy: 0.8406\n",
      "Epoch 32/100\n",
      "54/54 [==============================] - 0s 5ms/step - loss: 0.3470 - accuracy: 0.8544 - val_loss: 0.3791 - val_accuracy: 0.8398\n",
      "Epoch 33/100\n",
      "54/54 [==============================] - 0s 4ms/step - loss: 0.3580 - accuracy: 0.8495 - val_loss: 0.3778 - val_accuracy: 0.8413\n",
      "Epoch 34/100\n",
      "54/54 [==============================] - 0s 4ms/step - loss: 0.3569 - accuracy: 0.8499 - val_loss: 0.3769 - val_accuracy: 0.8417\n",
      "Epoch 35/100\n",
      "54/54 [==============================] - 0s 5ms/step - loss: 0.3486 - accuracy: 0.8531 - val_loss: 0.3757 - val_accuracy: 0.8425\n",
      "Epoch 36/100\n",
      "54/54 [==============================] - 0s 4ms/step - loss: 0.3394 - accuracy: 0.8579 - val_loss: 0.3749 - val_accuracy: 0.8413\n",
      "Epoch 37/100\n",
      "54/54 [==============================] - 0s 4ms/step - loss: 0.3423 - accuracy: 0.8541 - val_loss: 0.3743 - val_accuracy: 0.8440\n",
      "Epoch 38/100\n",
      "54/54 [==============================] - 0s 4ms/step - loss: 0.3458 - accuracy: 0.8510 - val_loss: 0.3735 - val_accuracy: 0.8455\n",
      "Epoch 39/100\n",
      "54/54 [==============================] - 0s 4ms/step - loss: 0.3495 - accuracy: 0.8492 - val_loss: 0.3727 - val_accuracy: 0.8455\n",
      "Epoch 40/100\n",
      "54/54 [==============================] - 0s 4ms/step - loss: 0.3411 - accuracy: 0.8574 - val_loss: 0.3723 - val_accuracy: 0.8466\n",
      "Epoch 41/100\n",
      "54/54 [==============================] - 0s 8ms/step - loss: 0.3494 - accuracy: 0.8529 - val_loss: 0.3720 - val_accuracy: 0.8448\n",
      "Epoch 42/100\n",
      "54/54 [==============================] - 0s 5ms/step - loss: 0.3396 - accuracy: 0.8595 - val_loss: 0.3709 - val_accuracy: 0.8459\n",
      "Epoch 43/100\n",
      "54/54 [==============================] - 0s 5ms/step - loss: 0.3455 - accuracy: 0.8565 - val_loss: 0.3704 - val_accuracy: 0.8489\n",
      "Epoch 44/100\n",
      "54/54 [==============================] - 0s 4ms/step - loss: 0.3688 - accuracy: 0.8422 - val_loss: 0.3704 - val_accuracy: 0.8455\n",
      "Epoch 45/100\n",
      "54/54 [==============================] - 0s 4ms/step - loss: 0.3271 - accuracy: 0.8617 - val_loss: 0.3698 - val_accuracy: 0.8501\n",
      "Epoch 46/100\n",
      "54/54 [==============================] - 0s 5ms/step - loss: 0.3479 - accuracy: 0.8516 - val_loss: 0.3696 - val_accuracy: 0.8474\n",
      "Epoch 47/100\n",
      "54/54 [==============================] - 0s 5ms/step - loss: 0.3493 - accuracy: 0.8531 - val_loss: 0.3692 - val_accuracy: 0.8455\n",
      "Epoch 48/100\n",
      "54/54 [==============================] - 0s 5ms/step - loss: 0.3479 - accuracy: 0.8505 - val_loss: 0.3691 - val_accuracy: 0.8466\n",
      "Epoch 49/100\n",
      "54/54 [==============================] - 0s 4ms/step - loss: 0.3508 - accuracy: 0.8484 - val_loss: 0.3691 - val_accuracy: 0.8466\n",
      "Epoch 50/100\n",
      "54/54 [==============================] - 0s 4ms/step - loss: 0.3425 - accuracy: 0.8573 - val_loss: 0.3685 - val_accuracy: 0.8482\n",
      "Epoch 51/100\n",
      "54/54 [==============================] - 0s 5ms/step - loss: 0.3437 - accuracy: 0.8564 - val_loss: 0.3687 - val_accuracy: 0.8470\n",
      "Epoch 52/100\n",
      "54/54 [==============================] - 0s 4ms/step - loss: 0.3353 - accuracy: 0.8594 - val_loss: 0.3686 - val_accuracy: 0.8485\n",
      "Epoch 53/100\n",
      "54/54 [==============================] - 0s 4ms/step - loss: 0.3304 - accuracy: 0.8595 - val_loss: 0.3679 - val_accuracy: 0.8489\n",
      "Epoch 54/100\n",
      "54/54 [==============================] - 0s 4ms/step - loss: 0.3489 - accuracy: 0.8471 - val_loss: 0.3678 - val_accuracy: 0.8489\n",
      "Epoch 55/100\n",
      "54/54 [==============================] - 0s 4ms/step - loss: 0.3462 - accuracy: 0.8537 - val_loss: 0.3680 - val_accuracy: 0.8493\n",
      "Epoch 56/100\n",
      "54/54 [==============================] - 0s 4ms/step - loss: 0.3490 - accuracy: 0.8523 - val_loss: 0.3680 - val_accuracy: 0.8489\n",
      "Epoch 57/100\n",
      "54/54 [==============================] - 0s 4ms/step - loss: 0.3404 - accuracy: 0.8582 - val_loss: 0.3677 - val_accuracy: 0.8501\n",
      "Epoch 58/100\n"
     ]
    },
    {
     "name": "stdout",
     "output_type": "stream",
     "text": [
      "54/54 [==============================] - 0s 4ms/step - loss: 0.3418 - accuracy: 0.8518 - val_loss: 0.3674 - val_accuracy: 0.8485\n",
      "Epoch 59/100\n",
      "54/54 [==============================] - 0s 4ms/step - loss: 0.3357 - accuracy: 0.8562 - val_loss: 0.3675 - val_accuracy: 0.8501\n",
      "Epoch 60/100\n",
      "54/54 [==============================] - 0s 4ms/step - loss: 0.3284 - accuracy: 0.8624 - val_loss: 0.3674 - val_accuracy: 0.8497\n",
      "Epoch 61/100\n",
      "54/54 [==============================] - 0s 4ms/step - loss: 0.3369 - accuracy: 0.8586 - val_loss: 0.3672 - val_accuracy: 0.8493\n",
      "Epoch 62/100\n",
      "54/54 [==============================] - 0s 4ms/step - loss: 0.3491 - accuracy: 0.8515 - val_loss: 0.3669 - val_accuracy: 0.8501\n",
      "Epoch 63/100\n",
      "54/54 [==============================] - 0s 3ms/step - loss: 0.3252 - accuracy: 0.8636 - val_loss: 0.3666 - val_accuracy: 0.8489\n",
      "Epoch 64/100\n",
      "54/54 [==============================] - 0s 4ms/step - loss: 0.3330 - accuracy: 0.8619 - val_loss: 0.3672 - val_accuracy: 0.8501\n",
      "Epoch 65/100\n",
      "54/54 [==============================] - 0s 5ms/step - loss: 0.3525 - accuracy: 0.8488 - val_loss: 0.3678 - val_accuracy: 0.8482\n",
      "Epoch 66/100\n",
      "54/54 [==============================] - 0s 5ms/step - loss: 0.3396 - accuracy: 0.8547 - val_loss: 0.3662 - val_accuracy: 0.8493\n",
      "Epoch 67/100\n",
      "54/54 [==============================] - 0s 5ms/step - loss: 0.3385 - accuracy: 0.8591 - val_loss: 0.3660 - val_accuracy: 0.8482\n",
      "Epoch 68/100\n",
      "54/54 [==============================] - 0s 4ms/step - loss: 0.3292 - accuracy: 0.8665 - val_loss: 0.3661 - val_accuracy: 0.8489\n",
      "Epoch 69/100\n",
      "54/54 [==============================] - 0s 5ms/step - loss: 0.3409 - accuracy: 0.8604 - val_loss: 0.3663 - val_accuracy: 0.8501\n",
      "Epoch 70/100\n",
      "54/54 [==============================] - 0s 4ms/step - loss: 0.3374 - accuracy: 0.8620 - val_loss: 0.3663 - val_accuracy: 0.8485\n",
      "Epoch 71/100\n",
      "54/54 [==============================] - 0s 4ms/step - loss: 0.3256 - accuracy: 0.8651 - val_loss: 0.3662 - val_accuracy: 0.8501\n",
      "Epoch 72/100\n",
      "54/54 [==============================] - 0s 4ms/step - loss: 0.3381 - accuracy: 0.8594 - val_loss: 0.3667 - val_accuracy: 0.8466\n",
      "Epoch 73/100\n",
      "54/54 [==============================] - 0s 4ms/step - loss: 0.3263 - accuracy: 0.8661 - val_loss: 0.3657 - val_accuracy: 0.8523\n",
      "Epoch 74/100\n",
      "54/54 [==============================] - 0s 4ms/step - loss: 0.3453 - accuracy: 0.8514 - val_loss: 0.3660 - val_accuracy: 0.8485\n",
      "Epoch 75/100\n",
      "54/54 [==============================] - 0s 5ms/step - loss: 0.3286 - accuracy: 0.8593 - val_loss: 0.3657 - val_accuracy: 0.8497\n",
      "Epoch 76/100\n",
      "54/54 [==============================] - 0s 4ms/step - loss: 0.3385 - accuracy: 0.8571 - val_loss: 0.3653 - val_accuracy: 0.8531\n",
      "Epoch 77/100\n",
      "54/54 [==============================] - 0s 4ms/step - loss: 0.3328 - accuracy: 0.8640 - val_loss: 0.3652 - val_accuracy: 0.8516\n",
      "Epoch 78/100\n",
      "54/54 [==============================] - 0s 4ms/step - loss: 0.3321 - accuracy: 0.8634 - val_loss: 0.3649 - val_accuracy: 0.8531\n",
      "Epoch 79/100\n",
      "54/54 [==============================] - 0s 4ms/step - loss: 0.3234 - accuracy: 0.8665 - val_loss: 0.3647 - val_accuracy: 0.8519\n",
      "Epoch 80/100\n",
      "54/54 [==============================] - 0s 4ms/step - loss: 0.3343 - accuracy: 0.8618 - val_loss: 0.3649 - val_accuracy: 0.8504\n",
      "Epoch 81/100\n",
      "54/54 [==============================] - 0s 4ms/step - loss: 0.3270 - accuracy: 0.8600 - val_loss: 0.3645 - val_accuracy: 0.8527\n",
      "Epoch 82/100\n",
      "54/54 [==============================] - 0s 3ms/step - loss: 0.3155 - accuracy: 0.8715 - val_loss: 0.3647 - val_accuracy: 0.8542\n",
      "Epoch 83/100\n",
      "54/54 [==============================] - 0s 8ms/step - loss: 0.3299 - accuracy: 0.8617 - val_loss: 0.3643 - val_accuracy: 0.8523\n",
      "Epoch 84/100\n",
      "54/54 [==============================] - 0s 4ms/step - loss: 0.3283 - accuracy: 0.8615 - val_loss: 0.3645 - val_accuracy: 0.8527\n",
      "Epoch 85/100\n",
      "54/54 [==============================] - 0s 4ms/step - loss: 0.3359 - accuracy: 0.8652 - val_loss: 0.3644 - val_accuracy: 0.8516\n",
      "Epoch 86/100\n",
      "54/54 [==============================] - 0s 4ms/step - loss: 0.3183 - accuracy: 0.8699 - val_loss: 0.3649 - val_accuracy: 0.8519\n",
      "Epoch 87/100\n",
      "54/54 [==============================] - 0s 4ms/step - loss: 0.3409 - accuracy: 0.8568 - val_loss: 0.3640 - val_accuracy: 0.8512\n",
      "Epoch 88/100\n",
      "54/54 [==============================] - 0s 4ms/step - loss: 0.3249 - accuracy: 0.8669 - val_loss: 0.3639 - val_accuracy: 0.8531\n",
      "Epoch 89/100\n",
      "54/54 [==============================] - 0s 5ms/step - loss: 0.3250 - accuracy: 0.8611 - val_loss: 0.3641 - val_accuracy: 0.8527\n",
      "Epoch 90/100\n",
      "54/54 [==============================] - 0s 5ms/step - loss: 0.3392 - accuracy: 0.8576 - val_loss: 0.3641 - val_accuracy: 0.8512\n",
      "Epoch 91/100\n",
      "54/54 [==============================] - 0s 6ms/step - loss: 0.3259 - accuracy: 0.8676 - val_loss: 0.3637 - val_accuracy: 0.8527\n",
      "Epoch 92/100\n",
      "54/54 [==============================] - 0s 5ms/step - loss: 0.3303 - accuracy: 0.8616 - val_loss: 0.3640 - val_accuracy: 0.8519\n",
      "Epoch 93/100\n",
      "54/54 [==============================] - 0s 4ms/step - loss: 0.3347 - accuracy: 0.8592 - val_loss: 0.3639 - val_accuracy: 0.8501\n",
      "Epoch 94/100\n",
      "54/54 [==============================] - 0s 4ms/step - loss: 0.3233 - accuracy: 0.8665 - val_loss: 0.3635 - val_accuracy: 0.8519\n",
      "Epoch 95/100\n",
      "54/54 [==============================] - 0s 4ms/step - loss: 0.3242 - accuracy: 0.8674 - val_loss: 0.3638 - val_accuracy: 0.8523\n",
      "Epoch 96/100\n",
      "54/54 [==============================] - 0s 4ms/step - loss: 0.3317 - accuracy: 0.8589 - val_loss: 0.3638 - val_accuracy: 0.8523\n",
      "Epoch 97/100\n",
      "54/54 [==============================] - 0s 4ms/step - loss: 0.3329 - accuracy: 0.8618 - val_loss: 0.3638 - val_accuracy: 0.8512\n",
      "Epoch 98/100\n",
      "54/54 [==============================] - 0s 4ms/step - loss: 0.3250 - accuracy: 0.8642 - val_loss: 0.3637 - val_accuracy: 0.8519\n",
      "Epoch 99/100\n",
      "54/54 [==============================] - 0s 5ms/step - loss: 0.3167 - accuracy: 0.8682 - val_loss: 0.3630 - val_accuracy: 0.8512\n",
      "Epoch 100/100\n",
      "54/54 [==============================] - 0s 4ms/step - loss: 0.3255 - accuracy: 0.8710 - val_loss: 0.3630 - val_accuracy: 0.8523\n"
     ]
    }
   ],
   "source": [
    "# Fitting the ANN to the Training set\n",
    "model_history=classifier.fit(X_train, y_train,validation_split=0.33, batch_size = 100,epochs = 100)"
   ]
  },
  {
   "cell_type": "code",
   "execution_count": 56,
   "metadata": {},
   "outputs": [
    {
     "data": {
      "text/plain": [
       "dict_keys(['loss', 'accuracy', 'val_loss', 'val_accuracy'])"
      ]
     },
     "execution_count": 56,
     "metadata": {},
     "output_type": "execute_result"
    }
   ],
   "source": [
    "model_history.history.keys()"
   ]
  },
  {
   "cell_type": "code",
   "execution_count": 57,
   "metadata": {
    "colab": {
     "base_uri": "https://localhost:8080/",
     "height": 312
    },
    "id": "9YYQKNLFoGqY",
    "outputId": "f170571c-a7cf-4383-af87-7819a4bb025c"
   },
   "outputs": [
    {
     "name": "stdout",
     "output_type": "stream",
     "text": [
      "dict_keys(['loss', 'accuracy', 'val_loss', 'val_accuracy'])\n"
     ]
    },
    {
     "data": {
      "image/png": "[encoded data removed]",
      "text/plain": [
       "<Figure size 432x288 with 1 Axes>"
      ]
     },
     "metadata": {
      "needs_background": "light"
     },
     "output_type": "display_data"
    }
   ],
   "source": [
    "# list all data in history\n",
    "\n",
    "print(model_history.history.keys())\n",
    "# summarize history for accuracy\n",
    "plt.plot(model_history.history['accuracy'])\n",
    "plt.plot(model_history.history['val_accuracy'])\n",
    "plt.title('model accuracy')\n",
    "plt.ylabel('accuracy')\n",
    "plt.xlabel('epoch')\n",
    "plt.legend(['train', 'test'], loc='upper left')\n",
    "plt.show()"
   ]
  },
  {
   "cell_type": "code",
   "execution_count": 58,
   "metadata": {
    "colab": {
     "base_uri": "https://localhost:8080/",
     "height": 295
    },
    "id": "SxqMInP_ogni",
    "outputId": "835a8964-4895-4e22-958d-22f94f7ba258"
   },
   "outputs": [
    {
     "data": {
      "image/png": "[encoded data removed]",
      "text/plain": [
       "<Figure size 432x288 with 1 Axes>"
      ]
     },
     "metadata": {
      "needs_background": "light"
     },
     "output_type": "display_data"
    }
   ],
   "source": [
    "# summarize history for loss\n",
    "plt.plot(model_history.history['loss'])\n",
    "plt.plot(model_history.history['val_loss'])\n",
    "plt.title('model loss')\n",
    "plt.ylabel('loss')\n",
    "plt.xlabel('epoch')\n",
    "plt.legend(['train', 'test'], loc='upper left')\n",
    "plt.show()"
   ]
  },
  {
   "cell_type": "code",
   "execution_count": 60,
   "metadata": {
    "id": "y2_wiHsdor3R"
   },
   "outputs": [],
   "source": [
    "# Part 3 - Making the predictions and evaluating the model\n",
    "\n",
    "# Predicting the Test set results\n",
    "y_pred = classifier.predict(X_test)\n",
    "y_pred = (y_pred > 0.5)"
   ]
  },
  {
   "cell_type": "code",
   "execution_count": 61,
   "metadata": {},
   "outputs": [
    {
     "data": {
      "text/plain": [
       "array([[False],\n",
       "       [False],\n",
       "       [False],\n",
       "       ...,\n",
       "       [False],\n",
       "       [False],\n",
       "       [False]])"
      ]
     },
     "execution_count": 61,
     "metadata": {},
     "output_type": "execute_result"
    }
   ],
   "source": [
    "y_pred"
   ]
  },
  {
   "cell_type": "code",
   "execution_count": 62,
   "metadata": {
    "id": "6aOhNA4iovzu"
   },
   "outputs": [],
   "source": [
    "# Making the Confusion Matrix\n",
    "from sklearn.metrics import confusion_matrix\n",
    "cm = confusion_matrix(y_test, y_pred)"
   ]
  },
  {
   "cell_type": "code",
   "execution_count": 64,
   "metadata": {
    "colab": {
     "base_uri": "https://localhost:8080/",
     "height": 51
    },
    "id": "my6JGfzioxy2",
    "outputId": "cb6636fb-91ab-43a9-e628-b5fc35e56d31"
   },
   "outputs": [
    {
     "data": {
      "text/plain": [
       "array([[1511,   84],\n",
       "       [ 201,  204]], dtype=int64)"
      ]
     },
     "execution_count": 64,
     "metadata": {},
     "output_type": "execute_result"
    }
   ],
   "source": [
    "cm"
   ]
  },
  {
   "cell_type": "code",
   "execution_count": 65,
   "metadata": {
    "id": "G4FVoJl7oyr_"
   },
   "outputs": [],
   "source": [
    "# Calculate the Accuracy\n",
    "from sklearn.metrics import accuracy_score\n",
    "score=accuracy_score(y_pred,y_test)"
   ]
  },
  {
   "cell_type": "code",
   "execution_count": 66,
   "metadata": {
    "colab": {
     "base_uri": "https://localhost:8080/",
     "height": 34
    },
    "id": "Y4Nlv_pjo1GQ",
    "outputId": "74725c7a-4272-4081-ea3a-a94d3ccca9a0"
   },
   "outputs": [
    {
     "data": {
      "text/plain": [
       "0.8575"
      ]
     },
     "execution_count": 66,
     "metadata": {},
     "output_type": "execute_result"
    }
   ],
   "source": [
    "score"
   ]
  },
  {
   "cell_type": "code",
   "execution_count": 83,
   "metadata": {
    "id": "791inrxho2zL"
   },
   "outputs": [],
   "source": [
    "from tensorflow.keras.models import load_model\n",
    "classifier.save('exmpl.h5')\n",
    "model = load_model('exmpl.h5')\n"
   ]
  },
  {
   "cell_type": "code",
   "execution_count": 84,
   "metadata": {},
   "outputs": [
    {
     "name": "stdout",
     "output_type": "stream",
     "text": [
      "Model: \"sequential_1\"\n",
      "_________________________________________________________________\n",
      "Layer (type)                 Output Shape              Param #   \n",
      "=================================================================\n",
      "dense_3 (Dense)              (None, 10)                120       \n",
      "_________________________________________________________________\n",
      "dense_4 (Dense)              (None, 10)                110       \n",
      "_________________________________________________________________\n",
      "dense_5 (Dense)              (None, 1)                 11        \n",
      "=================================================================\n",
      "Total params: 241\n",
      "Trainable params: 241\n",
      "Non-trainable params: 0\n",
      "_________________________________________________________________\n"
     ]
    }
   ],
   "source": [
    "model.summary()"
   ]
  },
  {
   "cell_type": "code",
   "execution_count": null,
   "metadata": {},
   "outputs": [],
   "source": []
  }
 ],
 "metadata": {
  "accelerator": "GPU",
  "colab": {
   "name": "GIMANN.ipynb",
   "provenance": []
  },
  "kernelspec": {
   "display_name": "Python 3",
   "language": "python",
   "name": "python3"
  },
  "language_info": {
   "codemirror_mode": {
    "name": "ipython",
    "version": 3
   },
   "file_extension": ".py",
   "mimetype": "text/x-python",
   "name": "python",
   "nbconvert_exporter": "python",
   "pygments_lexer": "ipython3",
   "version": "3.6.9"
  }
 },
 "nbformat": 4,
 "nbformat_minor": 1
}
